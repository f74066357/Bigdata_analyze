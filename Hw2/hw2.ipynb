{
  "nbformat": 4,
  "nbformat_minor": 0,
  "metadata": {
    "colab": {
      "name": "hw2.ipynb",
      "provenance": [],
      "collapsed_sections": []
    },
    "kernelspec": {
      "name": "python3",
      "display_name": "Python 3"
    },
    "language_info": {
      "name": "python"
    }
  },
  "cells": [
    {
      "cell_type": "markdown",
      "source": [
        "# 安裝Pyspark"
      ],
      "metadata": {
        "id": "Zq1aeTsV8S92"
      }
    },
    {
      "cell_type": "code",
      "source": [
        "!apt-get -y install openjdk-8-jre-headless\n",
        "!pip install pyspark\n",
        "from pyspark.sql import SparkSession\n",
        "from pyspark import SparkContext\n",
        "spark = SparkSession.builder.master(\"local\").getOrCreate()\n",
        "sc = SparkContext.getOrCreate()"
      ],
      "metadata": {
        "colab": {
          "base_uri": "https://localhost:8080/"
        },
        "id": "FxYHElfifqBZ",
        "outputId": "ce862b62-43db-47fb-aa86-a7df56a40401"
      },
      "execution_count": 15,
      "outputs": [
        {
          "output_type": "stream",
          "name": "stdout",
          "text": [
            "Reading package lists... Done\n",
            "Building dependency tree       \n",
            "Reading state information... Done\n",
            "openjdk-8-jre-headless is already the newest version (8u312-b07-0ubuntu1~18.04).\n",
            "0 upgraded, 0 newly installed, 0 to remove and 39 not upgraded.\n",
            "Requirement already satisfied: pyspark in /usr/local/lib/python3.7/dist-packages (3.2.1)\n",
            "Requirement already satisfied: py4j==0.10.9.3 in /usr/local/lib/python3.7/dist-packages (from pyspark) (0.10.9.3)\n"
          ]
        }
      ]
    },
    {
      "cell_type": "code",
      "source": [
        "rdd = sc.parallelize([\"Hello Spark\"])\n",
        "counts = rdd.flatMap(lambda line: line.split(\" \")) \\\n",
        "    .map(lambda word: (word, 1)) \\\n",
        "    .reduceByKey(lambda a, b: a + b) \\\n",
        "    .collect()\n",
        "print(counts)"
      ],
      "metadata": {
        "colab": {
          "base_uri": "https://localhost:8080/"
        },
        "id": "-dZyvvcif6dD",
        "outputId": "2af23e02-a6fe-41f2-b57a-05794ff62067"
      },
      "execution_count": 16,
      "outputs": [
        {
          "output_type": "stream",
          "name": "stdout",
          "text": [
            "[('Hello', 1), ('Spark', 1)]\n"
          ]
        }
      ]
    },
    {
      "cell_type": "code",
      "source": [
        "from google.colab import drive\n",
        "import os\n",
        "drive.mount('/content/gdrive')\n",
        "%cd gdrive/My\\ Drive/Colab Notebooks/bigdata/HW2/\n",
        "!ls"
      ],
      "metadata": {
        "colab": {
          "base_uri": "https://localhost:8080/"
        },
        "id": "cD7h4N6nuVSG",
        "outputId": "12e98d52-215b-490d-e146-85c485ecde20"
      },
      "execution_count": 17,
      "outputs": [
        {
          "output_type": "stream",
          "name": "stdout",
          "text": [
            "Drive already mounted at /content/gdrive; to attempt to forcibly remount, call drive.mount(\"/content/gdrive\", force_remount=True).\n",
            "[Errno 2] No such file or directory: 'gdrive/My Drive/Colab Notebooks/bigdata/HW2/'\n",
            "/content/gdrive/My Drive/Colab Notebooks/bigdata/HW2\n",
            "2000.csv  2002.csv  2004.csv  2007.csv\thw2.ipynb\n",
            "2001.csv  2003.csv  2005.csv  2008.csv\n"
          ]
        }
      ]
    },
    {
      "cell_type": "code",
      "source": [
        "from pyspark.sql import SparkSession\n",
        "from pyspark import SparkContext\n",
        "spark = SparkSession.builder.master(\"airline\").getOrCreate()"
      ],
      "metadata": {
        "id": "vnTLblqyuONT"
      },
      "execution_count": 18,
      "outputs": []
    },
    {
      "cell_type": "markdown",
      "source": [
        "# Q1: 2007 maximal delays (ArrDelay/DepDelay)"
      ],
      "metadata": {
        "id": "PfUUom0_2aQ0"
      }
    },
    {
      "cell_type": "code",
      "source": [
        "df = spark.read.csv('2007.csv',sep=',',header=True,inferSchema=True)\n",
        "df.show(10, False)"
      ],
      "metadata": {
        "colab": {
          "base_uri": "https://localhost:8080/"
        },
        "id": "oRQKvwzz1F7x",
        "outputId": "c0f51e9d-1206-4ac1-cc00-b19c53066b4c"
      },
      "execution_count": 19,
      "outputs": [
        {
          "output_type": "stream",
          "name": "stdout",
          "text": [
            "+----+-----+----------+---------+-------+----------+-------+----------+-------------+---------+-------+-----------------+--------------+-------+--------+--------+------+----+--------+------+-------+---------+----------------+--------+------------+------------+--------+-------------+-----------------+\n",
            "|Year|Month|DayofMonth|DayOfWeek|DepTime|CRSDepTime|ArrTime|CRSArrTime|UniqueCarrier|FlightNum|TailNum|ActualElapsedTime|CRSElapsedTime|AirTime|ArrDelay|DepDelay|Origin|Dest|Distance|TaxiIn|TaxiOut|Cancelled|CancellationCode|Diverted|CarrierDelay|WeatherDelay|NASDelay|SecurityDelay|LateAircraftDelay|\n",
            "+----+-----+----------+---------+-------+----------+-------+----------+-------------+---------+-------+-----------------+--------------+-------+--------+--------+------+----+--------+------+-------+---------+----------------+--------+------------+------------+--------+-------------+-----------------+\n",
            "|2007|1    |1         |1        |1232   |1225      |1341   |1340      |WN           |2891     |N351   |69               |75            |54     |1       |7       |SMF   |ONT |389     |4     |11     |0        |null            |0       |0           |0           |0       |0            |0                |\n",
            "|2007|1    |1         |1        |1918   |1905      |2043   |2035      |WN           |462      |N370   |85               |90            |74     |8       |13      |SMF   |PDX |479     |5     |6      |0        |null            |0       |0           |0           |0       |0            |0                |\n",
            "|2007|1    |1         |1        |2206   |2130      |2334   |2300      |WN           |1229     |N685   |88               |90            |73     |34      |36      |SMF   |PDX |479     |6     |9      |0        |null            |0       |3           |0           |0       |0            |31               |\n",
            "|2007|1    |1         |1        |1230   |1200      |1356   |1330      |WN           |1355     |N364   |86               |90            |75     |26      |30      |SMF   |PDX |479     |3     |8      |0        |null            |0       |23          |0           |0       |0            |3                |\n",
            "|2007|1    |1         |1        |831    |830       |957    |1000      |WN           |2278     |N480   |86               |90            |74     |-3      |1       |SMF   |PDX |479     |3     |9      |0        |null            |0       |0           |0           |0       |0            |0                |\n",
            "|2007|1    |1         |1        |1430   |1420      |1553   |1550      |WN           |2386     |N611SW |83               |90            |74     |3       |10      |SMF   |PDX |479     |2     |7      |0        |null            |0       |0           |0           |0       |0            |0                |\n",
            "|2007|1    |1         |1        |1936   |1840      |2217   |2130      |WN           |409      |N482   |101              |110           |89     |47      |56      |SMF   |PHX |647     |5     |7      |0        |null            |0       |46          |0           |0       |0            |1                |\n",
            "|2007|1    |1         |1        |944    |935       |1223   |1225      |WN           |1131     |N749SW |99               |110           |86     |-2      |9       |SMF   |PHX |647     |4     |9      |0        |null            |0       |0           |0           |0       |0            |0                |\n",
            "|2007|1    |1         |1        |1537   |1450      |1819   |1735      |WN           |1212     |N451   |102              |105           |90     |44      |47      |SMF   |PHX |647     |5     |7      |0        |null            |0       |20          |0           |0       |0            |24               |\n",
            "|2007|1    |1         |1        |1318   |1315      |1603   |1610      |WN           |2456     |N630WN |105              |115           |92     |-7      |3       |SMF   |PHX |647     |5     |8      |0        |null            |0       |0           |0           |0       |0            |0                |\n",
            "+----+-----+----------+---------+-------+----------+-------+----------+-------------+---------+-------+-----------------+--------------+-------+--------+--------+------+----+--------+------+-------+---------+----------------+--------+------------+------------+--------+-------------+-----------------+\n",
            "only showing top 10 rows\n",
            "\n"
          ]
        }
      ]
    },
    {
      "cell_type": "code",
      "source": [
        "print (df.columns)"
      ],
      "metadata": {
        "colab": {
          "base_uri": "https://localhost:8080/"
        },
        "id": "vLtffIzr5k7t",
        "outputId": "e966bff0-fcc8-41cf-fa85-dad2b4e2b395"
      },
      "execution_count": 20,
      "outputs": [
        {
          "output_type": "stream",
          "name": "stdout",
          "text": [
            "['Year', 'Month', 'DayofMonth', 'DayOfWeek', 'DepTime', 'CRSDepTime', 'ArrTime', 'CRSArrTime', 'UniqueCarrier', 'FlightNum', 'TailNum', 'ActualElapsedTime', 'CRSElapsedTime', 'AirTime', 'ArrDelay', 'DepDelay', 'Origin', 'Dest', 'Distance', 'TaxiIn', 'TaxiOut', 'Cancelled', 'CancellationCode', 'Diverted', 'CarrierDelay', 'WeatherDelay', 'NASDelay', 'SecurityDelay', 'LateAircraftDelay']\n"
          ]
        }
      ]
    },
    {
      "cell_type": "code",
      "source": [
        "from pyspark.sql.functions import desc"
      ],
      "metadata": {
        "id": "F2KAkSb-i4Km"
      },
      "execution_count": 35,
      "outputs": []
    },
    {
      "cell_type": "markdown",
      "source": [
        "找出出發延遲時間>0的項，依月分加總，再由大到小排序"
      ],
      "metadata": {
        "id": "1MOt22VtrUkb"
      }
    },
    {
      "cell_type": "code",
      "source": [
        "df1 = df.filter(df.ArrDelay>0)\n",
        "df1 = df1.groupBy('Month').count()\n",
        "df1.sort(desc(\"count\")).show()"
      ],
      "metadata": {
        "colab": {
          "base_uri": "https://localhost:8080/"
        },
        "id": "6uPG_FYthfGw",
        "outputId": "e37690c1-6323-426c-8914-fa58529a1f49"
      },
      "execution_count": 68,
      "outputs": [
        {
          "output_type": "stream",
          "name": "stdout",
          "text": [
            "+-----+------+\n",
            "|Month| count|\n",
            "+-----+------+\n",
            "|    6|295897|\n",
            "|    3|294556|\n",
            "|   12|280493|\n",
            "|    1|279427|\n",
            "|    2|278902|\n",
            "|    7|264630|\n",
            "|    4|256142|\n",
            "|    5|254673|\n",
            "|    8|239737|\n",
            "|   10|183582|\n",
            "|   11|181506|\n",
            "|    9|169959|\n",
            "+-----+------+\n",
            "\n"
          ]
        }
      ]
    },
    {
      "cell_type": "code",
      "source": [
        "df1 = df.groupBy('Month').agg({\"ArrDelay\":\"sum\"})\n",
        "# df1.show()\n",
        "df1.sort(desc(\"sum(ArrDelay)\")).show()"
      ],
      "metadata": {
        "colab": {
          "base_uri": "https://localhost:8080/"
        },
        "id": "6lEMcmhAgO2N",
        "outputId": "ccce741b-c39a-4251-906f-6d7ee5d4a7bc"
      },
      "execution_count": 33,
      "outputs": [
        {
          "output_type": "stream",
          "name": "stdout",
          "text": [
            "+-----+-------------+\n",
            "|Month|sum(ArrDelay)|\n",
            "+-----+-------------+\n",
            "|    7|  2.9787755E7|\n",
            "|    6|  2.9273457E7|\n",
            "|   12|  2.8387198E7|\n",
            "|    8|  2.5634905E7|\n",
            "|    1|  1.9350695E7|\n",
            "|    3|  1.8177128E7|\n",
            "|    2|  1.7677022E7|\n",
            "|    5|  1.4880815E7|\n",
            "|   11|  1.3944817E7|\n",
            "|    4|  1.0923485E7|\n",
            "|   10|  1.0362077E7|\n",
            "|    9|    5861210.0|\n",
            "+-----+-------------+\n",
            "\n"
          ]
        }
      ]
    },
    {
      "cell_type": "code",
      "source": [
        "df1 = df.groupBy('Month').agg({\"ArrDelay\":\"mean\"})\n",
        "# df1.show()\n",
        "df1.sort(desc(\"avg(ArrDelay)\")).show()"
      ],
      "metadata": {
        "colab": {
          "base_uri": "https://localhost:8080/"
        },
        "id": "mGCJ3E685XEb",
        "outputId": "4b867f4d-2a74-44e7-f4f9-ee5de96155ef"
      },
      "execution_count": 34,
      "outputs": [
        {
          "output_type": "stream",
          "name": "stdout",
          "text": [
            "+-----+------------------+\n",
            "|Month|     avg(ArrDelay)|\n",
            "+-----+------------------+\n",
            "|   12| 9.505191706395525|\n",
            "|    6| 9.439898936967818|\n",
            "|    7| 9.265966020986397|\n",
            "|    8|  7.91506136626785|\n",
            "|    1| 6.326686246539656|\n",
            "|    2| 6.225167153471292|\n",
            "|    3| 5.727969829186254|\n",
            "|   11| 4.752403837961521|\n",
            "|    5| 4.731699057527695|\n",
            "|    4|3.5584525539550884|\n",
            "|   10| 3.361293189717672|\n",
            "|    9| 2.010846724488875|\n",
            "+-----+------------------+\n",
            "\n"
          ]
        }
      ]
    },
    {
      "cell_type": "code",
      "source": [
        "df2 = df.filter(df.DepDelay>0)\n",
        "df2 = df2.groupBy('Month').count()\n",
        "df2.sort(desc(\"count\")).show()"
      ],
      "metadata": {
        "colab": {
          "base_uri": "https://localhost:8080/"
        },
        "id": "sajQC3c6i9kI",
        "outputId": "9f464751-1b7d-4a46-b500-7d0b2eff07bf"
      },
      "execution_count": 39,
      "outputs": [
        {
          "output_type": "stream",
          "name": "stdout",
          "text": [
            "+-----+-------+\n",
            "|Month|  count|\n",
            "+-----+-------+\n",
            "|   12|1307151|\n",
            "|    7|1305176|\n",
            "|    6|1260305|\n",
            "|    8|1235339|\n",
            "|    3|1148270|\n",
            "|    1|1109805|\n",
            "|   11|1025116|\n",
            "|    2|1020607|\n",
            "|    5|1020520|\n",
            "|   10| 996036|\n",
            "|    4| 982291|\n",
            "|    9| 818492|\n",
            "+-----+-------+\n",
            "\n"
          ]
        }
      ]
    },
    {
      "cell_type": "code",
      "source": [
        "df2 = df.groupBy('Month').agg({\"DepDelay\": \"sum\"})\n",
        "# _df1.show()\n",
        "df2.sort(desc(\"sum(DepDelay)\")).show()\n"
      ],
      "metadata": {
        "colab": {
          "base_uri": "https://localhost:8080/"
        },
        "id": "-vYJKfQRgzf0",
        "outputId": "ca9b03fc-3e9d-4555-c716-2e5a608039c6"
      },
      "execution_count": 23,
      "outputs": [
        {
          "output_type": "stream",
          "name": "stdout",
          "text": [
            "+-----+-------------+\n",
            "|Month|sum(DepDelay)|\n",
            "+-----+-------------+\n",
            "|    6|    9923997.0|\n",
            "|   12|    9601694.0|\n",
            "|    7|    9400459.0|\n",
            "|    8|    8663460.0|\n",
            "|    2|    7574116.0|\n",
            "|    3|    7366421.0|\n",
            "|    1|    6231524.0|\n",
            "|    4|    6082001.0|\n",
            "|    5|    5203821.0|\n",
            "|   10|    4964959.0|\n",
            "|   11|    4459718.0|\n",
            "|    9|    3655695.0|\n",
            "+-----+-------------+\n",
            "\n"
          ]
        }
      ]
    },
    {
      "cell_type": "code",
      "source": [
        "df2 = df.groupBy('Month').agg({\"DepDelay\": \"mean\"})\n",
        "# _df1.show()\n",
        "df2.sort(desc(\"avg(DepDelay)\")).show()\n"
      ],
      "metadata": {
        "colab": {
          "base_uri": "https://localhost:8080/"
        },
        "id": "2lS6EFR47X8k",
        "outputId": "dccc7d4c-2906-470c-afaa-d4e9d714882c"
      },
      "execution_count": 24,
      "outputs": [
        {
          "output_type": "stream",
          "name": "stdout",
          "text": [
            "+-----+------------------+\n",
            "|Month|     avg(DepDelay)|\n",
            "+-----+------------------+\n",
            "|    6|16.214701071994014|\n",
            "|   12|16.201398473962534|\n",
            "|    7|14.802613636005757|\n",
            "|    2| 14.02253123732965|\n",
            "|    8|13.515875591278409|\n",
            "|    3|11.836802542694253|\n",
            "|    1|10.286743415948312|\n",
            "|    4| 10.07771370814071|\n",
            "|    5| 8.329205401044868|\n",
            "|   10| 7.973724233737243|\n",
            "|   11| 7.446888306310218|\n",
            "|    9| 6.157685958765665|\n",
            "+-----+------------------+\n",
            "\n"
          ]
        }
      ]
    },
    {
      "cell_type": "markdown",
      "source": [
        "# Q2: flights were delayed caused by **security** between 2000~2005 (each year)"
      ],
      "metadata": {
        "id": "mia_3b3z8Dk9"
      }
    },
    {
      "cell_type": "code",
      "source": [
        "path = ['2000.csv','2001.csv','2002.csv','2003.csv','2004.csv','2005.csv']\n",
        "df = spark.read.csv(path,sep=',',header=True,inferSchema=True)\n",
        "df.show(10, False)"
      ],
      "metadata": {
        "colab": {
          "base_uri": "https://localhost:8080/"
        },
        "id": "c99iNKxq8PFP",
        "outputId": "670d3289-54a1-4aeb-9fef-bdbc5411b9db"
      },
      "execution_count": 25,
      "outputs": [
        {
          "output_type": "stream",
          "name": "stdout",
          "text": [
            "+----+-----+----------+---------+-------+----------+-------+----------+-------------+---------+-------+-----------------+--------------+-------+--------+--------+------+----+--------+------+-------+---------+----------------+--------+------------+------------+--------+-------------+-----------------+\n",
            "|Year|Month|DayofMonth|DayOfWeek|DepTime|CRSDepTime|ArrTime|CRSArrTime|UniqueCarrier|FlightNum|TailNum|ActualElapsedTime|CRSElapsedTime|AirTime|ArrDelay|DepDelay|Origin|Dest|Distance|TaxiIn|TaxiOut|Cancelled|CancellationCode|Diverted|CarrierDelay|WeatherDelay|NASDelay|SecurityDelay|LateAircraftDelay|\n",
            "+----+-----+----------+---------+-------+----------+-------+----------+-------------+---------+-------+-----------------+--------------+-------+--------+--------+------+----+--------+------+-------+---------+----------------+--------+------------+------------+--------+-------------+-----------------+\n",
            "|2000|1    |28        |5        |1647   |1647      |1906   |1859      |HP           |154      |N808AW |259              |252           |233    |7       |0       |ATL   |PHX |1587    |15    |11     |0        |NA              |0       |NA          |NA          |NA      |NA           |NA               |\n",
            "|2000|1    |29        |6        |1648   |1647      |1939   |1859      |HP           |154      |N653AW |291              |252           |239    |40      |1       |ATL   |PHX |1587    |5     |47     |0        |NA              |0       |NA          |NA          |NA      |NA           |NA               |\n",
            "|2000|1    |30        |7        |NA     |1647      |NA     |1859      |HP           |154      |N801AW |NA               |252           |NA     |NA      |NA      |ATL   |PHX |1587    |0     |0      |1        |NA              |0       |NA          |NA          |NA      |NA           |NA               |\n",
            "|2000|1    |31        |1        |1645   |1647      |1852   |1859      |HP           |154      |N806AW |247              |252           |226    |-7      |-2      |ATL   |PHX |1587    |7     |14     |0        |NA              |0       |NA          |NA          |NA      |NA           |NA               |\n",
            "|2000|1    |1         |6        |842    |846       |1057   |1101      |HP           |609      |N158AW |255              |255           |244    |-4      |-4      |ATL   |PHX |1587    |3     |8      |0        |NA              |0       |NA          |NA          |NA      |NA           |NA               |\n",
            "|2000|1    |2         |7        |849    |846       |1148   |1101      |HP           |609      |N656AW |299              |255           |267    |47      |3       |ATL   |PHX |1587    |8     |24     |0        |NA              |0       |NA          |NA          |NA      |NA           |NA               |\n",
            "|2000|1    |3         |1        |844    |846       |1121   |1101      |HP           |609      |N803AW |277              |255           |244    |20      |-2      |ATL   |PHX |1587    |6     |27     |0        |NA              |0       |NA          |NA          |NA      |NA           |NA               |\n",
            "|2000|1    |1         |6        |1702   |1657      |1912   |1908      |HP           |611      |N652AW |250              |251           |232    |4       |5       |ATL   |PHX |1587    |5     |13     |0        |NA              |0       |NA          |NA          |NA      |NA           |NA               |\n",
            "|2000|1    |2         |7        |1658   |1657      |1901   |1908      |HP           |611      |N807AW |243              |251           |233    |-7      |1       |ATL   |PHX |1587    |3     |7      |0        |NA              |0       |NA          |NA          |NA      |NA           |NA               |\n",
            "|2000|1    |3         |1        |1656   |1657      |1922   |1908      |HP           |611      |N807AW |266              |251           |241    |14      |-1      |ATL   |PHX |1587    |5     |20     |0        |NA              |0       |NA          |NA          |NA      |NA           |NA               |\n",
            "+----+-----+----------+---------+-------+----------+-------+----------+-------------+---------+-------+-----------------+--------------+-------+--------+--------+------+----+--------+------+-------+---------+----------------+--------+------------+------------+--------+-------------+-----------------+\n",
            "only showing top 10 rows\n",
            "\n"
          ]
        }
      ]
    },
    {
      "cell_type": "code",
      "source": [
        "df2 = df.filter(df.SecurityDelay>0)\n",
        "df2.show(5,False)"
      ],
      "metadata": {
        "colab": {
          "base_uri": "https://localhost:8080/"
        },
        "id": "2-8CbvWeX-jJ",
        "outputId": "3de581b0-79b0-4198-c4a5-afbf4d5d19e1"
      },
      "execution_count": 40,
      "outputs": [
        {
          "output_type": "stream",
          "name": "stdout",
          "text": [
            "+----+-----+----------+---------+-------+----------+-------+----------+-------------+---------+-------+-----------------+--------------+-------+--------+--------+------+----+--------+------+-------+---------+----------------+--------+------------+------------+--------+-------------+-----------------+\n",
            "|Year|Month|DayofMonth|DayOfWeek|DepTime|CRSDepTime|ArrTime|CRSArrTime|UniqueCarrier|FlightNum|TailNum|ActualElapsedTime|CRSElapsedTime|AirTime|ArrDelay|DepDelay|Origin|Dest|Distance|TaxiIn|TaxiOut|Cancelled|CancellationCode|Diverted|CarrierDelay|WeatherDelay|NASDelay|SecurityDelay|LateAircraftDelay|\n",
            "+----+-----+----------+---------+-------+----------+-------+----------+-------------+---------+-------+-----------------+--------------+-------+--------+--------+------+----+--------+------+-------+---------+----------------+--------+------------+------------+--------+-------------+-----------------+\n",
            "|2003|6    |27        |5        |1946   |1640      |2058   |1751      |UA           |888      |N571UA |72               |71            |50     |187     |186     |LAX   |SFO |337     |4     |18     |0        |null            |0       |0           |0           |1       |186          |0                |\n",
            "|2003|6    |27        |5        |1914   |1615      |2014   |1722      |UA           |935      |N367UA |60               |67            |45     |172     |179     |LAX   |LAS |236     |5     |10     |0        |null            |0       |0           |0           |0       |172          |0                |\n",
            "|2003|6    |27        |5        |2043   |1700      |2319   |1929      |UA           |1028     |N396UA |156              |149           |129    |230     |223     |LAX   |SEA |954     |4     |23     |0        |null            |0       |0           |0           |7       |199          |24               |\n",
            "|2003|6    |27        |5        |1947   |1800      |2057   |1914      |UA           |1412     |N465UA |70               |74            |50     |103     |107     |LAX   |SFO |337     |5     |15     |0        |null            |0       |0           |0           |0       |103          |0                |\n",
            "|2003|6    |27        |5        |1830   |1545      |1936   |1659      |UA           |1414     |N541UA |66               |74            |49     |157     |165     |LAX   |SFO |337     |3     |14     |0        |null            |0       |0           |0           |0       |157          |0                |\n",
            "+----+-----+----------+---------+-------+----------+-------+----------+-------------+---------+-------+-----------------+--------------+-------+--------+--------+------+----+--------+------+-------+---------+----------------+--------+------------+------------+--------+-------------+-----------------+\n",
            "only showing top 5 rows\n",
            "\n"
          ]
        }
      ]
    },
    {
      "cell_type": "code",
      "source": [
        "dftime = df2.groupBy('Year').agg({\"SecurityDelay\": \"sum\"})\n",
        "dftime.sort(desc(\"sum(SecurityDelay)\")).show()"
      ],
      "metadata": {
        "colab": {
          "base_uri": "https://localhost:8080/"
        },
        "id": "3VXTm4S9aWhl",
        "outputId": "bf01e399-7b68-4b81-e805-67442d78b780"
      },
      "execution_count": 41,
      "outputs": [
        {
          "output_type": "stream",
          "name": "stdout",
          "text": [
            "+----+------------------+\n",
            "|Year|sum(SecurityDelay)|\n",
            "+----+------------------+\n",
            "|2004|          179219.0|\n",
            "|2005|          141045.0|\n",
            "|2003|           80663.0|\n",
            "+----+------------------+\n",
            "\n"
          ]
        }
      ]
    },
    {
      "cell_type": "code",
      "source": [
        "dfyear = df2.groupBy('Year').count()\n",
        "dfyear.show()"
      ],
      "metadata": {
        "colab": {
          "base_uri": "https://localhost:8080/"
        },
        "id": "ZjRJ29B0dCOJ",
        "outputId": "2ef4163b-7693-4583-9219-4efa43ff8ac2"
      },
      "execution_count": 42,
      "outputs": [
        {
          "output_type": "stream",
          "name": "stdout",
          "text": [
            "+----+-----+\n",
            "|Year|count|\n",
            "+----+-----+\n",
            "|2003| 3740|\n",
            "|2004| 8158|\n",
            "|2005| 6627|\n",
            "+----+-----+\n",
            "\n"
          ]
        }
      ]
    },
    {
      "cell_type": "markdown",
      "source": [
        "# Q3: Top 5 airports which occur delays most and least in 2008 (show the IATA airport code)"
      ],
      "metadata": {
        "id": "VeBWHPFWarzZ"
      }
    },
    {
      "cell_type": "markdown",
      "source": [
        "Origin(DepDelay)和Dest(ArrDelay)應該一起算，occur ->算次數"
      ],
      "metadata": {
        "id": "v4yE12myhTse"
      }
    },
    {
      "cell_type": "code",
      "source": [
        "df = spark.read.csv('2008.csv',sep=',',header=True,inferSchema=True)\n",
        "df.show(10, False)"
      ],
      "metadata": {
        "colab": {
          "base_uri": "https://localhost:8080/"
        },
        "id": "GMb-Vc0svcR3",
        "outputId": "e454bc2b-5150-48a8-f346-0d0541d10b59"
      },
      "execution_count": 43,
      "outputs": [
        {
          "output_type": "stream",
          "name": "stdout",
          "text": [
            "+----+-----+----------+---------+-------+----------+-------+----------+-------------+---------+-------+-----------------+--------------+-------+--------+--------+------+----+--------+------+-------+---------+----------------+--------+------------+------------+--------+-------------+-----------------+\n",
            "|Year|Month|DayofMonth|DayOfWeek|DepTime|CRSDepTime|ArrTime|CRSArrTime|UniqueCarrier|FlightNum|TailNum|ActualElapsedTime|CRSElapsedTime|AirTime|ArrDelay|DepDelay|Origin|Dest|Distance|TaxiIn|TaxiOut|Cancelled|CancellationCode|Diverted|CarrierDelay|WeatherDelay|NASDelay|SecurityDelay|LateAircraftDelay|\n",
            "+----+-----+----------+---------+-------+----------+-------+----------+-------------+---------+-------+-----------------+--------------+-------+--------+--------+------+----+--------+------+-------+---------+----------------+--------+------------+------------+--------+-------------+-----------------+\n",
            "|2008|1    |3         |4        |2003   |1955      |2211   |2225      |WN           |335      |N712SW |128              |150           |116    |-14     |8       |IAD   |TPA |810     |4     |8      |0        |null            |0       |NA          |NA          |NA      |NA           |NA               |\n",
            "|2008|1    |3         |4        |754    |735       |1002   |1000      |WN           |3231     |N772SW |128              |145           |113    |2       |19      |IAD   |TPA |810     |5     |10     |0        |null            |0       |NA          |NA          |NA      |NA           |NA               |\n",
            "|2008|1    |3         |4        |628    |620       |804    |750       |WN           |448      |N428WN |96               |90            |76     |14      |8       |IND   |BWI |515     |3     |17     |0        |null            |0       |NA          |NA          |NA      |NA           |NA               |\n",
            "|2008|1    |3         |4        |926    |930       |1054   |1100      |WN           |1746     |N612SW |88               |90            |78     |-6      |-4      |IND   |BWI |515     |3     |7      |0        |null            |0       |NA          |NA          |NA      |NA           |NA               |\n",
            "|2008|1    |3         |4        |1829   |1755      |1959   |1925      |WN           |3920     |N464WN |90               |90            |77     |34      |34      |IND   |BWI |515     |3     |10     |0        |null            |0       |2           |0           |0       |0            |32               |\n",
            "|2008|1    |3         |4        |1940   |1915      |2121   |2110      |WN           |378      |N726SW |101              |115           |87     |11      |25      |IND   |JAX |688     |4     |10     |0        |null            |0       |NA          |NA          |NA      |NA           |NA               |\n",
            "|2008|1    |3         |4        |1937   |1830      |2037   |1940      |WN           |509      |N763SW |240              |250           |230    |57      |67      |IND   |LAS |1591    |3     |7      |0        |null            |0       |10          |0           |0       |0            |47               |\n",
            "|2008|1    |3         |4        |1039   |1040      |1132   |1150      |WN           |535      |N428WN |233              |250           |219    |-18     |-1      |IND   |LAS |1591    |7     |7      |0        |null            |0       |NA          |NA          |NA      |NA           |NA               |\n",
            "|2008|1    |3         |4        |617    |615       |652    |650       |WN           |11       |N689SW |95               |95            |70     |2       |2       |IND   |MCI |451     |6     |19     |0        |null            |0       |NA          |NA          |NA      |NA           |NA               |\n",
            "|2008|1    |3         |4        |1620   |1620      |1639   |1655      |WN           |810      |N648SW |79               |95            |70     |-16     |0       |IND   |MCI |451     |3     |6      |0        |null            |0       |NA          |NA          |NA      |NA           |NA               |\n",
            "+----+-----+----------+---------+-------+----------+-------+----------+-------------+---------+-------+-----------------+--------------+-------+--------+--------+------+----+--------+------+-------+---------+----------------+--------+------------+------------+--------+-------------+-----------------+\n",
            "only showing top 10 rows\n",
            "\n"
          ]
        }
      ]
    },
    {
      "cell_type": "code",
      "source": [
        "from pyspark.sql.functions import col"
      ],
      "metadata": {
        "id": "3louEznkm3o4"
      },
      "execution_count": 49,
      "outputs": []
    },
    {
      "cell_type": "code",
      "source": [
        "dp = df.filter(df.DepDelay>0)\n",
        "dpdelay=dp.groupBy('Origin').count()\n",
        "dpdelay = dpdelay.select(col(\"Origin\").alias(\"Country\"), col(\"count\").alias(\"CountDp\"))\n",
        "dpdelay.show()"
      ],
      "metadata": {
        "colab": {
          "base_uri": "https://localhost:8080/"
        },
        "id": "Lzwew3Bra91g",
        "outputId": "c06b8138-03a3-438e-8fa9-02c69a657b69"
      },
      "execution_count": 50,
      "outputs": [
        {
          "output_type": "stream",
          "name": "stdout",
          "text": [
            "+-------+-------+\n",
            "|Country|CountDp|\n",
            "+-------+-------+\n",
            "|    BGM|    128|\n",
            "|    PSE|    127|\n",
            "|    MSY|  15229|\n",
            "|    GEG|   5333|\n",
            "|    SNA|  17869|\n",
            "|    BUR|  12233|\n",
            "|    GRB|   2268|\n",
            "|    GTF|    399|\n",
            "|    IDA|    683|\n",
            "|    GRR|   4598|\n",
            "|    EUG|   1368|\n",
            "|    PSG|    329|\n",
            "|    PVD|   8497|\n",
            "|    GSO|   3782|\n",
            "|    MYR|   1198|\n",
            "|    OAK|  29189|\n",
            "|    MSN|   4103|\n",
            "|    COD|    161|\n",
            "|    FAR|   1085|\n",
            "|    BTM|    101|\n",
            "+-------+-------+\n",
            "only showing top 20 rows\n",
            "\n"
          ]
        }
      ]
    },
    {
      "cell_type": "code",
      "source": [
        "arr = df.filter(df.ArrDelay>0)\n",
        "arrdelay=arr.groupBy('Dest').count()\n",
        "arrdelay = arrdelay.select(col(\"Dest\").alias(\"Country\"), col(\"count\").alias(\"CountArr\"))\n",
        "arrdelay.show()"
      ],
      "metadata": {
        "colab": {
          "base_uri": "https://localhost:8080/"
        },
        "id": "ec95Awyvz-BB",
        "outputId": "997860ef-f31d-4cce-f1a0-ff8d1ea80a2c"
      },
      "execution_count": 51,
      "outputs": [
        {
          "output_type": "stream",
          "name": "stdout",
          "text": [
            "+-------+--------+\n",
            "|Country|CountArr|\n",
            "+-------+--------+\n",
            "|    BGM|     229|\n",
            "|    PSE|     310|\n",
            "|    MSY|   16799|\n",
            "|    GEG|    7337|\n",
            "|    BUR|   11903|\n",
            "|    SNA|   19231|\n",
            "|    GRB|    3514|\n",
            "|    GTF|     793|\n",
            "|    IDA|    1065|\n",
            "|    GRR|    7453|\n",
            "|    EUG|    2327|\n",
            "|    PSG|     311|\n",
            "|    PVD|    9079|\n",
            "|    MYR|    2283|\n",
            "|    GSO|    6150|\n",
            "|    OAK|   24526|\n",
            "|    MSN|    6161|\n",
            "|    COD|     389|\n",
            "|    FAR|    1859|\n",
            "|    BTM|     187|\n",
            "+-------+--------+\n",
            "only showing top 20 rows\n",
            "\n"
          ]
        }
      ]
    },
    {
      "cell_type": "code",
      "source": [
        "df_concat = dpdelay.join(arrdelay, on='Country')\n",
        "df_concat.show()"
      ],
      "metadata": {
        "colab": {
          "base_uri": "https://localhost:8080/"
        },
        "id": "Fx2y0sVI2Mcv",
        "outputId": "142b3290-bbe0-4073-dbb5-cdb855d6f835"
      },
      "execution_count": 52,
      "outputs": [
        {
          "output_type": "stream",
          "name": "stdout",
          "text": [
            "+-------+-------+--------+\n",
            "|Country|CountDp|CountArr|\n",
            "+-------+-------+--------+\n",
            "|    BGM|    128|     229|\n",
            "|    PSE|    127|     310|\n",
            "|    MSY|  15229|   16799|\n",
            "|    GEG|   5333|    7337|\n",
            "|    BUR|  12233|   11903|\n",
            "|    SNA|  17869|   19231|\n",
            "|    GRB|   2268|    3514|\n",
            "|    GTF|    399|     793|\n",
            "|    IDA|    683|    1065|\n",
            "|    GRR|   4598|    7453|\n",
            "|    EUG|   1368|    2327|\n",
            "|    PSG|    329|     311|\n",
            "|    PVD|   8497|    9079|\n",
            "|    MYR|   1198|    2283|\n",
            "|    GSO|   3782|    6150|\n",
            "|    OAK|  29189|   24526|\n",
            "|    MSN|   4103|    6161|\n",
            "|    COD|    161|     389|\n",
            "|    FAR|   1085|    1859|\n",
            "|    BTM|    101|     187|\n",
            "+-------+-------+--------+\n",
            "only showing top 20 rows\n",
            "\n"
          ]
        }
      ]
    },
    {
      "cell_type": "code",
      "source": [
        "from pyspark.sql import functions as F\n",
        "from pyspark.sql.functions import asc\n",
        "merge=df_concat.groupBy(\"Country\").agg(F.sum(df_concat.CountDp+df_concat.CountArr))\n",
        "merge1=merge.sort(desc(\"sum((CountDp + CountArr))\"))\n",
        "merge1.show(5)\n",
        "merge2=merge.sort(asc(\"sum((CountDp + CountArr))\"))\n",
        "merge2.show(5)"
      ],
      "metadata": {
        "colab": {
          "base_uri": "https://localhost:8080/"
        },
        "id": "ouY4dqPb-Wxa",
        "outputId": "12fa3b9a-f681-4134-b3bd-bb45f6db4129"
      },
      "execution_count": 72,
      "outputs": [
        {
          "output_type": "stream",
          "name": "stdout",
          "text": [
            "+-------+-------------------------+\n",
            "|Country|sum((CountDp + CountArr))|\n",
            "+-------+-------------------------+\n",
            "|    ATL|                   362260|\n",
            "|    ORD|                   311298|\n",
            "|    DFW|                   247566|\n",
            "|    DEN|                   207095|\n",
            "|    LAX|                   180766|\n",
            "+-------+-------------------------+\n",
            "only showing top 5 rows\n",
            "\n",
            "+-------+-------------------------+\n",
            "|Country|sum((CountDp + CountArr))|\n",
            "+-------+-------------------------+\n",
            "|    TUP|                        3|\n",
            "|    PIR|                        7|\n",
            "|    BJI|                       16|\n",
            "|    INL|                       18|\n",
            "|    BLI|                       45|\n",
            "+-------+-------------------------+\n",
            "only showing top 5 rows\n",
            "\n"
          ]
        }
      ]
    },
    {
      "cell_type": "code",
      "source": [
        "import matplotlib\n",
        "import matplotlib.pyplot as plt\n",
        "merge = merge.toPandas()\n",
        "merge.plot()\n",
        "plt.show()"
      ],
      "metadata": {
        "colab": {
          "base_uri": "https://localhost:8080/",
          "height": 265
        },
        "id": "wq31GxvxcXHv",
        "outputId": "3424d320-57be-4d79-fc76-214b2d171b8b"
      },
      "execution_count": 66,
      "outputs": [
        {
          "output_type": "display_data",
          "data": {
            "text/plain": [
              "<Figure size 432x288 with 1 Axes>"
            ],
            "image/png": "[encoded data removed]"
          },
          "metadata": {
            "needs_background": "light"
          }
        }
      ]
    },
    {
      "cell_type": "code",
      "source": [
        "# or df.ArrDelay>0 or WeatherDelay>0 or SecurityDelay"
      ],
      "metadata": {
        "id": "nfPu1dXPxC-A"
      },
      "execution_count": null,
      "outputs": []
    }
  ]
}